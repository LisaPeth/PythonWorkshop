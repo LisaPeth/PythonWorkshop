{
 "cells": [
  {
   "cell_type": "markdown",
   "metadata": {},
   "source": [
    "## WHILE, BREAK, CONTINUE"
   ]
  },
  {
   "cell_type": "code",
   "execution_count": null,
   "metadata": {},
   "outputs": [],
   "source": [
    "# a loop that we know\n",
    "for i in range(10):\n",
    "    print(i)"
   ]
  },
  {
   "cell_type": "code",
   "execution_count": null,
   "metadata": {},
   "outputs": [],
   "source": [
    "# new way of a loop\n",
    "i = 0\n",
    "while i <= 10:\n",
    "    i += 1\n",
    "    print(i)"
   ]
  },
  {
   "cell_type": "code",
   "execution_count": null,
   "metadata": {},
   "outputs": [],
   "source": [
    "# sometimes we want to just jump out of the loop\n",
    "j = 0\n",
    "while True:\n",
    "    j += 1\n",
    "    print(j)\n",
    "\n",
    "    if j == 10:\n",
    "        break"
   ]
  },
  {
   "cell_type": "code",
   "execution_count": null,
   "metadata": {},
   "outputs": [],
   "source": [
    "# same thing works for \"for loop\"\n",
    "for m in range(100):\n",
    "    if m % 2 == 0:\n",
    "        continue\n",
    "    print(m)\n",
    "    if m == 55:\n",
    "        break"
   ]
  },
  {
   "cell_type": "markdown",
   "metadata": {},
   "source": [
    "### Exercise"
   ]
  },
  {
   "cell_type": "code",
   "execution_count": null,
   "metadata": {},
   "outputs": [],
   "source": [
    "# there is mistake in this code - what's the problem?\n",
    "# how can we fix it?\n",
    "# how can we have the same code without break?\n",
    "k = 0\n",
    "while True:\n",
    "    k += 7\n",
    "    # skipping even numbers\n",
    "    if k % 3 == 0:\n",
    "        continue\n",
    "\n",
    "    print(k)\n",
    "    if k == 55:\n",
    "        break"
   ]
  },
  {
   "cell_type": "markdown",
   "metadata": {},
   "source": [
    "### Exceptions"
   ]
  },
  {
   "cell_type": "code",
   "execution_count": null,
   "metadata": {},
   "outputs": [],
   "source": [
    "mpans = {\n",
    "        '123456789': {'EAC': 12345, 'Registers': 2},\n",
    "        '234567890': {'EAC': 3456, 'Registers': 1},\n",
    "        '345678901': {'EAC': 44325, 'Registers': 0}\n",
    "     }\n",
    "# calculate what's the average of EAC per MPAN - this is hard!"
   ]
  },
  {
   "cell_type": "code",
   "execution_count": null,
   "metadata": {},
   "outputs": [],
   "source": [
    "aqs = [2345, 32643, 6544,  543534, 87686, 87643, 'wrong data', '45654']\n",
    "for aq in aqs:\n",
    "    try:\n",
    "        therms = aq/29.3071\n",
    "        print(therms)\n",
    "    except TypeError:\n",
    "        print('we got invalid data:', aq)"
   ]
  },
  {
   "cell_type": "markdown",
   "metadata": {},
   "source": [
    "### Exercise"
   ]
  },
  {
   "cell_type": "code",
   "execution_count": null,
   "metadata": {},
   "outputs": [],
   "source": [
    "# create a function that handles correctly strings that look like numbers (not excluding them)\n",
    "# and use it in a loop for the same \"aqs\" list\n",
    "\n"
   ]
  },
  {
   "cell_type": "markdown",
   "metadata": {},
   "source": [
    "### Generator"
   ]
  },
  {
   "cell_type": "code",
   "execution_count": null,
   "metadata": {},
   "outputs": [],
   "source": [
    "def my_first_very_basic_generator():\n",
    "    yield 'Abra'\n",
    "    yield 'Kadabra'\n",
    "    yield 'Hocus'\n",
    "    yield 'Pocus'\n",
    "    \n",
    "blah = my_first_very_basic_generator()\n",
    "print(blah)\n",
    "print(list(blah))"
   ]
  },
  {
   "cell_type": "code",
   "execution_count": null,
   "metadata": {},
   "outputs": [],
   "source": [
    "# one element at a time\n",
    "blah = my_first_very_basic_generator()\n",
    "print(next(blah, None))\n",
    "print(next(blah, None))\n",
    "print(next(blah, None))\n",
    "print(next(blah, None))\n",
    "print(next(blah, None))"
   ]
  },
  {
   "cell_type": "markdown",
   "metadata": {},
   "source": [
    "### Exercise - everything at once (in a loop)"
   ]
  },
  {
   "cell_type": "code",
   "execution_count": null,
   "metadata": {},
   "outputs": [],
   "source": [
    "# how can we improve above? (print(next(blah)))\n",
    "blah = my_first_very_basic_generator()"
   ]
  },
  {
   "cell_type": "code",
   "execution_count": null,
   "metadata": {},
   "outputs": [],
   "source": [
    "def cleaner_generator():\n",
    "    magic = ['Abra', 'Kadabra', 'Hocus', 'Pocus']  # this can be from database or whatever\n",
    "    for spell in magic:\n",
    "        yield spell"
   ]
  },
  {
   "cell_type": "markdown",
   "metadata": {},
   "source": [
    "### Homework - generator that returns n random numbers"
   ]
  }
 ],
 "metadata": {
  "kernelspec": {
   "display_name": "Python 3",
   "language": "python",
   "name": "python3"
  },
  "language_info": {
   "codemirror_mode": {
    "name": "ipython",
    "version": 3
   },
   "file_extension": ".py",
   "mimetype": "text/x-python",
   "name": "python",
   "nbconvert_exporter": "python",
   "pygments_lexer": "ipython3",
   "version": "3.6.5"
  }
 },
 "nbformat": 4,
 "nbformat_minor": 1
}
