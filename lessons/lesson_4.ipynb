{
 "cells": [
  {
   "cell_type": "markdown",
   "metadata": {},
   "source": [
    "## Exercise 1"
   ]
  },
  {
   "cell_type": "code",
   "execution_count": null,
   "metadata": {},
   "outputs": [],
   "source": [
    "with open('main.py') as f:\n",
    "  print(f)\n",
    "\n",
    "  for line in f:\n",
    "    print(line)\n",
    "\n",
    "mortgage_debt = '''year,debt,income,expense,profit\n",
    "0,119267.00,0.00,0.00,0.00\n",
    "1,114312.47,6000.00,-13785.90,-7785.90\n",
    "2,109263.49,12000.00,-27571.80,-15571.80\n",
    "3,104118.25,18000.00,-41357.70,-23357.70\n",
    "4,98874.92,24000.00,-55143.60,-31143.60\n",
    "5,93531.63,30000.00,-68929.50,-38929.50\n",
    "6,88086.47,36000.00,-82715.40,-46715.40\n",
    "7,82537.50,42000.00,-96501.30,-54501.30\n",
    "8,76882.74,48000.00,-110287.20,-62287.20\n",
    "9,71120.18,54000.00,-124073.10,-70073.10\n",
    "10,65247.76,60000.00,-137859.00,-77859.00\n",
    "11,59263.38,66000.00,-151644.90,-85644.90\n",
    "12,53164.91,72000.00,-165430.80,-93430.80\n",
    "13,46950.17,78000.00,-179216.70,-101216.70\n",
    "14,40616.96,84000.00,-193002.60,-109002.60\n",
    "15,34163.00,90000.00,-206788.50,-116788.50\n",
    "16,27586.00,96000.00,-220574.39,-124574.39\n",
    "17,20883.62,102000.00,-234360.29,-132360.29\n",
    "18,14053.45,108000.00,-248146.19,-140146.19\n",
    "19,7093.07,114000.00,-261932.09,-147932.09\n",
    "20,0.00,120000.00,-275717.99,-155717.99'''\n",
    "\n",
    "with open('mortgage_debt.csv', 'w') as fw:\n",
    "  fw.write(mortgage_debt)\n"
   ]
  },
  {
   "cell_type": "markdown",
   "metadata": {},
   "source": [
    "## Exercise:\n",
    "#### read mortgage_debt.csv\n"
   ]
  },
  {
   "cell_type": "code",
   "execution_count": null,
   "metadata": {},
   "outputs": [],
   "source": []
  },
  {
   "cell_type": "code",
   "execution_count": null,
   "metadata": {},
   "outputs": [],
   "source": [
    "import random\n",
    "\n",
    "my_random_number = random.random()\n",
    "print(my_random_number)"
   ]
  },
  {
   "cell_type": "markdown",
   "metadata": {},
   "source": [
    "## Exercise:\n",
    "#### Can you get a random number between 1 and 100?"
   ]
  },
  {
   "cell_type": "code",
   "execution_count": null,
   "metadata": {},
   "outputs": [],
   "source": []
  },
  {
   "cell_type": "code",
   "execution_count": null,
   "metadata": {},
   "outputs": [],
   "source": [
    "import datetime\n",
    "print(datetime.datetime.now())"
   ]
  },
  {
   "cell_type": "markdown",
   "metadata": {},
   "source": [
    "## Exercise:\n",
    "#### Can you get just today's date?\n",
    "#### Can you get the date from 10 days ago?"
   ]
  },
  {
   "cell_type": "code",
   "execution_count": null,
   "metadata": {},
   "outputs": [],
   "source": []
  },
  {
   "cell_type": "code",
   "execution_count": null,
   "metadata": {},
   "outputs": [],
   "source": [
    "# convert this list of strings to dates using datetime library\n",
    "# print only dates that are from 10 days ago onwards\n",
    "dates = ['20180101', '20181212', '20180711', '20190114', '20190215', '20190901', '20201231']"
   ]
  },
  {
   "cell_type": "code",
   "execution_count": null,
   "metadata": {},
   "outputs": [],
   "source": [
    "from datetime import datetime\n",
    "from random import random, randint as something\n",
    "print(datetime.now())\n",
    "print(something(1, 2))"
   ]
  },
  {
   "cell_type": "code",
   "execution_count": null,
   "metadata": {},
   "outputs": [],
   "source": [
    "import csv\n",
    "\n",
    "my_string = 'this,is,\"a,test\"'\n",
    "my_output = csv.reader([my_string])\n",
    "print(my_output)\n",
    "print(list(my_output)[0])\n",
    "\n",
    "with open('mortgage_debt.csv') as md:\n",
    "  my_csv = csv.reader(md)\n",
    "  print(my_csv)\n",
    "\n",
    "  for line in my_csv:\n",
    "    print(line)"
   ]
  },
  {
   "cell_type": "markdown",
   "metadata": {},
   "source": [
    "# Big exercise:\n",
    "#### Read a flow\n",
    "#### filter it based on your criteria (for example - only for settlement period = 48)"
   ]
  },
  {
   "cell_type": "code",
   "execution_count": null,
   "metadata": {},
   "outputs": [],
   "source": []
  }
 ],
 "metadata": {
  "kernelspec": {
   "display_name": "Python 3",
   "language": "python",
   "name": "python3"
  },
  "language_info": {
   "codemirror_mode": {
    "name": "ipython",
    "version": 3
   },
   "file_extension": ".py",
   "mimetype": "text/x-python",
   "name": "python",
   "nbconvert_exporter": "python",
   "pygments_lexer": "ipython3",
   "version": "3.6.5"
  }
 },
 "nbformat": 4,
 "nbformat_minor": 1
}
