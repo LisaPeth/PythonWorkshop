{
 "cells": [
  {
   "cell_type": "markdown",
   "metadata": {},
   "source": [
    "## Exercise 1"
   ]
  },
  {
   "cell_type": "code",
   "execution_count": null,
   "metadata": {},
   "outputs": [],
   "source": [
    "print(\"Welcome to Python!\")"
   ]
  },
  {
   "cell_type": "code",
   "execution_count": null,
   "metadata": {},
   "outputs": [],
   "source": [
    "my_number = 1\n",
    "my_string = 'abcd'\n",
    "my_float = 2.5\n",
    "my_boolean = True\n",
    "michals_dict = {'key': 'value'}\n",
    "michals_list = [my_number, 'abcd', 2.5, True, michals_dict]\n",
    "\n",
    "print(my_number)\n",
    "print(my_string)\n",
    "print(my_float)\n",
    "print(my_boolean)\n",
    "print(michals_dict)\n",
    "print(michals_list)\n",
    "\n",
    "my_string = 'xyz'\n",
    "print(my_string)\n"
   ]
  },
  {
   "cell_type": "markdown",
   "metadata": {},
   "source": [
    "#Variables"
   ]
  },
  {
   "cell_type": "markdown",
   "metadata": {},
   "source": [
    "##Exercise 2"
   ]
  },
  {
   "cell_type": "code",
   "execution_count": null,
   "metadata": {},
   "outputs": [],
   "source": [
    "# add two numbers\n",
    "\n",
    "# add two strings\n",
    "\n",
    "# multiply two numbers\n",
    "\n",
    "# add a number and a string\n",
    "\n",
    "# multiply a number and a string"
   ]
  },
  {
   "cell_type": "markdown",
   "metadata": {},
   "source": [
    "#Lists"
   ]
  },
  {
   "cell_type": "code",
   "execution_count": null,
   "metadata": {},
   "outputs": [],
   "source": [
    "my_new_list = ['apples', 'oranges', 'bananas']\n",
    "print(my_new_list)\n",
    "print(my_new_list[1])"
   ]
  },
  {
   "cell_type": "markdown",
   "metadata": {},
   "source": [
    "##Exercise 3"
   ]
  },
  {
   "cell_type": "code",
   "execution_count": null,
   "metadata": {},
   "outputs": [],
   "source": [
    "# create a list of numbers from 0 to 100 (hard way or smart way?! - google the answer)\n",
    "\n",
    "# print the fifth element of your list\n",
    "\n",
    "# print last element of your list\n",
    "\n",
    "# print first 3 elements of your list\n",
    "\n",
    "# print last 5 elements of your list\n",
    "\n",
    "# print any 10 elements in the middle of your list\n",
    "\n",
    "# At the top of this box - assign a string (of at least 10 characters) to your list variable\n",
    "# and re-run this box"
   ]
  },
  {
   "cell_type": "markdown",
   "metadata": {},
   "source": [
    "#Dictionaries"
   ]
  },
  {
   "cell_type": "code",
   "execution_count": null,
   "metadata": {},
   "outputs": [],
   "source": [
    "my_dict = {\n",
    "    'first_name': 'John', \n",
    "    'last_name': 'Smith', \n",
    "    'age': 30, \n",
    "    'pets': [\n",
    "        {'species': 'dog',\n",
    "         'name': 'Spot'},\n",
    "        {'species': 'cat',\n",
    "         'name': 'Moggins'},\n",
    "        {'species': 'fish',\n",
    "         'name': 'Nemo'}\n",
    "    ]\n",
    "}\n",
    "\n",
    "print(my_dict['first_name'], 'is', my_dict['age'], 'years old' )"
   ]
  },
  {
   "cell_type": "markdown",
   "metadata": {},
   "source": [
    "##Exercise 4"
   ]
  },
  {
   "cell_type": "code",
   "execution_count": null,
   "metadata": {},
   "outputs": [],
   "source": [
    "# change John's details to be your own (extra points for pets)\n",
    "\n",
    "# print your full name, age and pets on separate lines"
   ]
  },
  {
   "cell_type": "markdown",
   "metadata": {},
   "source": [
    "##Homework\n",
    "\n",
    "Go to this online Python editor [https://repl.it/](https://repl.it/)\n",
    "\n",
    "and create a few variables with random data/data types and then create a list with them inside?Treat it as a playground - test it, break it, whatever you want.\n",
    "\n",
    "You will have harder homework next time"
   ]
  },
  {
   "cell_type": "code",
   "execution_count": null,
   "metadata": {},
   "outputs": [],
   "source": []
  },
  {
   "cell_type": "code",
   "execution_count": null,
   "metadata": {},
   "outputs": [],
   "source": [
    "%reset"
   ]
  }
 ],
 "metadata": {
  "kernelspec": {
   "display_name": "Python 3",
   "language": "python",
   "name": "python3"
  },
  "language_info": {
   "codemirror_mode": {
    "name": "ipython",
    "version": 3
   },
   "file_extension": ".py",
   "mimetype": "text/x-python",
   "name": "python",
   "nbconvert_exporter": "python",
   "pygments_lexer": "ipython3",
   "version": "3.6.5"
  }
 },
 "nbformat": 4,
 "nbformat_minor": 1
}
