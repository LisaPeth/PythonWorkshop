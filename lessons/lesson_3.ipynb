{
 "cells": [
  {
   "cell_type": "markdown",
   "metadata": {},
   "source": [
    "# Functions"
   ]
  },
  {
   "cell_type": "code",
   "execution_count": null,
   "metadata": {},
   "outputs": [],
   "source": [
    "def simon_says(i):\n",
    "    print(\"Simon says: \" + i)\n",
    "\n",
    "\n",
    "simon_says('Hello World!')\n"
   ]
  },
  {
   "cell_type": "code",
   "execution_count": null,
   "metadata": {},
   "outputs": [],
   "source": [
    "simons_instructions = ['Clap hands', 'Jump', 'Turn around']\n",
    "\n",
    "for command in simons_instructions:\n",
    "    simon_says(command)"
   ]
  },
  {
   "cell_type": "code",
   "execution_count": null,
   "metadata": {},
   "outputs": [],
   "source": [
    "def increment(i):\n",
    "    return i + 1\n",
    "\n",
    "\n",
    "number1 = increment(4)\n",
    "number2 = increment(405)\n",
    "number_wang = increment(number1)\n",
    "\n",
    "print(number1)\n",
    "print(number2)\n",
    "print(number_wang)"
   ]
  },
  {
   "cell_type": "code",
   "execution_count": null,
   "metadata": {},
   "outputs": [],
   "source": [
    "def add_one_to_all(my_list):\n",
    "    ret_list = []\n",
    "    for element in my_list:\n",
    "        ret_list.append(element + 1)\n",
    "        \n",
    "    return ret_list \n",
    "\n",
    "\n",
    "a_list = [10, 11, 12, 13, 14, 15]\n",
    "result = add_one_to_all(a_list)\n",
    "\n",
    "print(\"a_list = \", a_list)\n",
    "print(\"result = \", result)"
   ]
  },
  {
   "cell_type": "code",
   "execution_count": null,
   "metadata": {},
   "outputs": [],
   "source": [
    "our_result = 0\n",
    "\n",
    "for index in range(10):\n",
    "    our_result = increment(our_result)\n",
    "    \n",
    "print(our_result)"
   ]
  },
  {
   "cell_type": "markdown",
   "metadata": {},
   "source": [
    "## Exercise 1"
   ]
  },
  {
   "cell_type": "code",
   "execution_count": null,
   "metadata": {},
   "outputs": [],
   "source": [
    "# Create a function called my_sum that sums numbers from a list and print the \n",
    "# result of calling my_sum(numbers).\n",
    "numbers = [12, 134, 422, 1, 13]\n",
    "\n",
    "# test:\n",
    "assert my_sum(numbers) == sum(numbers)\n",
    "\n"
   ]
  },
  {
   "cell_type": "markdown",
   "metadata": {},
   "source": [
    "## Exercise 2"
   ]
  },
  {
   "cell_type": "code",
   "execution_count": null,
   "metadata": {},
   "outputs": [],
   "source": [
    "# Create a function called my_min that returns the lowest number in a list.\n",
    "\n",
    "# test:\n",
    "assert my_min(numbers) == min(numbers)"
   ]
  },
  {
   "cell_type": "markdown",
   "metadata": {},
   "source": [
    "## Exercise 3 / homework"
   ]
  },
  {
   "cell_type": "code",
   "execution_count": null,
   "metadata": {},
   "outputs": [],
   "source": [
    "# Create a function, my_mulitplication, that takes two or more parameters and \n",
    "# multiplies them together.\n",
    "\n",
    "# test:\n",
    "assert my_mulitplication(2, 3, 4) == 24"
   ]
  }
 ],
 "metadata": {
  "kernelspec": {
   "display_name": "Python 3",
   "language": "python",
   "name": "python3"
  },
  "language_info": {
   "codemirror_mode": {
    "name": "ipython",
    "version": 3
   },
   "file_extension": ".py",
   "mimetype": "text/x-python",
   "name": "python",
   "nbconvert_exporter": "python",
   "pygments_lexer": "ipython3",
   "version": "3.6.5"
  }
 },
 "nbformat": 4,
 "nbformat_minor": 1
}
